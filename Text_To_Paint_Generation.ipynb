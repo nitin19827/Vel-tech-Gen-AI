{
  "nbformat": 4,
  "nbformat_minor": 0,
  "metadata": {
    "colab": {
      "provenance": [],
      "gpuType": "T4",
      "mount_file_id": "1iVmYs_yD8UXtZy5h4ZKhwc0lF1afEyAJ",
      "authorship_tag": "ABX9TyOgs51/GIx9YG7s3pAwfRiv",
      "include_colab_link": true
    },
    "kernelspec": {
      "name": "python3",
      "display_name": "Python 3"
    },
    "language_info": {
      "name": "python"
    },
    "accelerator": "GPU"
  },
  "cells": [
    {
      "cell_type": "markdown",
      "metadata": {
        "id": "view-in-github",
        "colab_type": "text"
      },
      "source": [
        "<a href=\"https://colab.research.google.com/github/nitin19827/Vel-tech-Gen-AI/blob/main/Text_To_Paint_Generation.ipynb\" target=\"_parent\"><img src=\"https://colab.research.google.com/assets/colab-badge.svg\" alt=\"Open In Colab\"/></a>"
      ]
    },
    {
      "cell_type": "code",
      "execution_count": null,
      "metadata": {
        "colab": {
          "base_uri": "https://localhost:8080/"
        },
        "id": "-jXhbwpkT2LI",
        "outputId": "5b3800e4-9468-48ad-fa35-ede044e0af6e"
      },
      "outputs": [
        {
          "output_type": "stream",
          "name": "stdout",
          "text": [
            "Collecting diffusers\n",
            "  Downloading diffusers-0.27.2-py3-none-any.whl (2.0 MB)\n",
            "\u001b[2K     \u001b[90m━━━━━━━━━━━━━━━━━━━━━━━━━━━━━━━━━━━━━━━━\u001b[0m \u001b[32m2.0/2.0 MB\u001b[0m \u001b[31m21.5 MB/s\u001b[0m eta \u001b[36m0:00:00\u001b[0m\n",
            "\u001b[?25hRequirement already satisfied: importlib-metadata in /usr/local/lib/python3.10/dist-packages (from diffusers) (7.1.0)\n",
            "Requirement already satisfied: filelock in /usr/local/lib/python3.10/dist-packages (from diffusers) (3.13.4)\n",
            "Requirement already satisfied: huggingface-hub>=0.20.2 in /usr/local/lib/python3.10/dist-packages (from diffusers) (0.20.3)\n",
            "Requirement already satisfied: numpy in /usr/local/lib/python3.10/dist-packages (from diffusers) (1.25.2)\n",
            "Requirement already satisfied: regex!=2019.12.17 in /usr/local/lib/python3.10/dist-packages (from diffusers) (2023.12.25)\n",
            "Requirement already satisfied: requests in /usr/local/lib/python3.10/dist-packages (from diffusers) (2.31.0)\n",
            "Requirement already satisfied: safetensors>=0.3.1 in /usr/local/lib/python3.10/dist-packages (from diffusers) (0.4.3)\n",
            "Requirement already satisfied: Pillow in /usr/local/lib/python3.10/dist-packages (from diffusers) (9.4.0)\n",
            "Requirement already satisfied: fsspec>=2023.5.0 in /usr/local/lib/python3.10/dist-packages (from huggingface-hub>=0.20.2->diffusers) (2023.6.0)\n",
            "Requirement already satisfied: tqdm>=4.42.1 in /usr/local/lib/python3.10/dist-packages (from huggingface-hub>=0.20.2->diffusers) (4.66.2)\n",
            "Requirement already satisfied: pyyaml>=5.1 in /usr/local/lib/python3.10/dist-packages (from huggingface-hub>=0.20.2->diffusers) (6.0.1)\n",
            "Requirement already satisfied: typing-extensions>=3.7.4.3 in /usr/local/lib/python3.10/dist-packages (from huggingface-hub>=0.20.2->diffusers) (4.11.0)\n",
            "Requirement already satisfied: packaging>=20.9 in /usr/local/lib/python3.10/dist-packages (from huggingface-hub>=0.20.2->diffusers) (24.0)\n",
            "Requirement already satisfied: zipp>=0.5 in /usr/local/lib/python3.10/dist-packages (from importlib-metadata->diffusers) (3.18.1)\n",
            "Requirement already satisfied: charset-normalizer<4,>=2 in /usr/local/lib/python3.10/dist-packages (from requests->diffusers) (3.3.2)\n",
            "Requirement already satisfied: idna<4,>=2.5 in /usr/local/lib/python3.10/dist-packages (from requests->diffusers) (3.7)\n",
            "Requirement already satisfied: urllib3<3,>=1.21.1 in /usr/local/lib/python3.10/dist-packages (from requests->diffusers) (2.0.7)\n",
            "Requirement already satisfied: certifi>=2017.4.17 in /usr/local/lib/python3.10/dist-packages (from requests->diffusers) (2024.2.2)\n",
            "Installing collected packages: diffusers\n",
            "Successfully installed diffusers-0.27.2\n",
            "Requirement already satisfied: transformers in /usr/local/lib/python3.10/dist-packages (4.40.0)\n",
            "Requirement already satisfied: filelock in /usr/local/lib/python3.10/dist-packages (from transformers) (3.13.4)\n",
            "Requirement already satisfied: huggingface-hub<1.0,>=0.19.3 in /usr/local/lib/python3.10/dist-packages (from transformers) (0.20.3)\n",
            "Requirement already satisfied: numpy>=1.17 in /usr/local/lib/python3.10/dist-packages (from transformers) (1.25.2)\n",
            "Requirement already satisfied: packaging>=20.0 in /usr/local/lib/python3.10/dist-packages (from transformers) (24.0)\n",
            "Requirement already satisfied: pyyaml>=5.1 in /usr/local/lib/python3.10/dist-packages (from transformers) (6.0.1)\n",
            "Requirement already satisfied: regex!=2019.12.17 in /usr/local/lib/python3.10/dist-packages (from transformers) (2023.12.25)\n",
            "Requirement already satisfied: requests in /usr/local/lib/python3.10/dist-packages (from transformers) (2.31.0)\n",
            "Requirement already satisfied: tokenizers<0.20,>=0.19 in /usr/local/lib/python3.10/dist-packages (from transformers) (0.19.1)\n",
            "Requirement already satisfied: safetensors>=0.4.1 in /usr/local/lib/python3.10/dist-packages (from transformers) (0.4.3)\n",
            "Requirement already satisfied: tqdm>=4.27 in /usr/local/lib/python3.10/dist-packages (from transformers) (4.66.2)\n",
            "Requirement already satisfied: fsspec>=2023.5.0 in /usr/local/lib/python3.10/dist-packages (from huggingface-hub<1.0,>=0.19.3->transformers) (2023.6.0)\n",
            "Requirement already satisfied: typing-extensions>=3.7.4.3 in /usr/local/lib/python3.10/dist-packages (from huggingface-hub<1.0,>=0.19.3->transformers) (4.11.0)\n",
            "Requirement already satisfied: charset-normalizer<4,>=2 in /usr/local/lib/python3.10/dist-packages (from requests->transformers) (3.3.2)\n",
            "Requirement already satisfied: idna<4,>=2.5 in /usr/local/lib/python3.10/dist-packages (from requests->transformers) (3.7)\n",
            "Requirement already satisfied: urllib3<3,>=1.21.1 in /usr/local/lib/python3.10/dist-packages (from requests->transformers) (2.0.7)\n",
            "Requirement already satisfied: certifi>=2017.4.17 in /usr/local/lib/python3.10/dist-packages (from requests->transformers) (2024.2.2)\n"
          ]
        }
      ],
      "source": [
        "!pip install diffusers\n",
        "!pip install transformers"
      ]
    },
    {
      "cell_type": "code",
      "source": [
        "from diffusers import StableDiffusionPipeline\n",
        "import torch\n",
        "\n",
        "model_id = \"runwayml/stable-diffusion-v1-5\"\n",
        "sd_pipeline = StableDiffusionPipeline.from_pretrained(model_id,\n",
        "                                                      torch_dtype=torch.float16)\n",
        "sd_pipeline = sd_pipeline.to(\"cuda\")"
      ],
      "metadata": {
        "colab": {
          "base_uri": "https://localhost:8080/",
          "height": 821,
          "referenced_widgets": [
            "8f51ee37b72945579065fda5d9cc8edb",
            "c87a4d927b1c48858ef8986da0bdebdf",
            "9b21411cd81b4d07a7db0528c6ce0c0d",
            "ab3f6fb110fc49d4a3f190d96d0eb0ad",
            "3ca38fc0ee8143ffa5ea383b597a00aa",
            "1a5fc73a4ac94c78b7edc1ffa391036c",
            "c172b3829fad469eae700f4d19822934",
            "f7c24877eac94c04b58788084d95e0be",
            "d445134051a1482fb631314d8dbadfd8",
            "da610465ceae47cbb559e1543a1fd725",
            "7da473a03b25405cafa87f532bfa10ec",
            "1c100f027a8040b493c4e5d55850490d",
            "3e3588e04bb44d068a9628f7a80985d5",
            "c5e95fcddabb48dfb47d1a8f28b652a1",
            "e569ed12eceb403abc4b4d04ae41ee53",
            "9d58841e8fe342aa9754847f324aa355",
            "a47b79d6e30a4fa58c81bc0e619b73a1",
            "6992a975c09c4ca99da0c9045e3c8df2",
            "2484c04c27be49d0bbea74efa821b462",
            "bc88ade9e0f34f37aef7bf9e01c7d7af",
            "16cb00d118594a0e992b3b61272af7f0",
            "57d52e8933ec405a964aac0e67c49e8d",
            "5a338a50c70742e2a2de9a1e254a027c",
            "5e632e88b26b48b7bfeba61a5fabc57a",
            "3376823e67ca49d08a4d9da2710d8918",
            "5996e080804f48679a2578d4573e3608",
            "62f578cf0bf94f4293c9ff52c72ce1be",
            "8ed0a91edc144eff9f889d518969c69c",
            "b32567a037754b38a8750c2f7fab8202",
            "290cc562f99649bc9e469d2b1fdb298d",
            "8aedc22a152445f2ac14840a1e5c84ff",
            "1b4b334f9aa14764873641059c773e38",
            "56d76fb4b95f47ecae22da84fb6f6990",
            "6cdcb9965d244012bee57bf378b2eade",
            "657b3ca280c24851a6782f3cc59e809c",
            "7b9bcdf65cff4acab96bc01a5e2b1ecb",
            "9ac663d5cc8b4714a984fe9ffc4ec85c",
            "6b5bd5c295ba47799088a531cfa53405",
            "bae90d2c8f884ef0b62e755129344bdc",
            "58c5271ff9764cd2bb76ce964411f2c5",
            "2ff51dfcba0a4f819469d60733d95f29",
            "06849eb754694daea1e7f145ca1f8271",
            "cae9a9a5fdb746bfb69bc00d23583055",
            "2ac11d7396d34d7f84339569a5c29704",
            "eb75768504b44ad182d50a73c89c9ed2",
            "90f101bf42bd49e7b6cee7d071f0e682",
            "556581c0054e418c890d50e8cc2e8dd5",
            "b7e21411ff0f4c77968921df99ee1712",
            "557eda21cd534a21bf36e2704fcd69e8",
            "b441ae26e4814b6ea048acec80a148bd",
            "7c92f777f22f445b8ee6639738092b3a",
            "8f704c8b48f74635b424e275165908fb",
            "cdf9b2d05a7a4bac90cd3d5b15673ce9",
            "599e745a650e4a22b30acba423fff227",
            "5aff1ab9c3384e6b9d81b1c982554685",
            "8564113504024b1fbb1b13a2803d528f",
            "19238426d1eb4db1a40c7f0c88fe5d05",
            "7a72c961539b47b888c0601a6fa89b05",
            "e8075742493543e59efa81603b4a3fac",
            "616a69e02cc949a19f2037e81894907f",
            "dfc502b6849f4b7c97104226e33a5a00",
            "162bd83f530744e9b112412990a38d55",
            "3eee600a8f9d44959f69b19d3bacadb5",
            "c77e25892a6d41ec95b4463b3ec5d0db",
            "ddf8a06cb32249cf83d69999881da7b3",
            "b97f986a175f4cadb56daa85996ff225",
            "6e141c11e71d46b8a0859e5a4ccf7761",
            "ce203524154a4295805f01f38d3ef39b",
            "71a1cd881c704b9b8d961ec4c4f95bc7",
            "938c643c80994e009bac28c438034e2d",
            "d8b24fa98a204595ba367cae4d792042",
            "76fe1bff0fd14b1bb7949e4d09352acb",
            "ff5ff5e39bf040c6a3544f422af6fb8c",
            "73e3c1cd7a084300a38b1a7a3bbbaa16",
            "740c372cef7c4a0db8b0e1675ec1919e",
            "e79f09423f2841d4a81b4f9169c041aa",
            "14475d7dbc104f4b9b0394a65cd986e9",
            "5b7f9d93e08744ea853025720345c028",
            "f82ab0a6c1a34b25a2406fbae950a259",
            "4c086b1d472141eca1c5032ebc462265",
            "7338a6adb0834d9584c617d2c968bf36",
            "6ce055daf4b54e1f8df2a9da7746177c",
            "43f5ee9044834cda92f9ac68f5061370",
            "bfc69cd06f8042d4b569e6dceee757de",
            "7dbb2c1139d7439e8f8a8417f3503b8f",
            "8006d1813b80467c89d4da310c1d9ca8",
            "4dfe114bb26d45fa8e9ae77f33ed5484",
            "d85402b54ed9406bbfb0ed04e0b8090e",
            "c03d62a956c84260bf535c6f0e4e65f9",
            "38f16202eada49ada7e032c0a0cb7525",
            "8a503a941a5c4e41960814a1ea647211",
            "1bddd226ecf0431c99260e448e101eff",
            "9dea6b2a70e04569882abc37e611e443",
            "6ecab6409fc749a781dfe89ab50e3199",
            "9fe3680d49644c58825e1ab1148d3aee",
            "2cbb897df5b444359ff90e82d9613878",
            "ffd9ae1e76264de8b1956ad5e0cf10ac",
            "5fbc95bcf6a04fa897dcdd0562918ee9",
            "60ef731f4d00488b961251a270db1986",
            "c5c16f012dff4283ab78426b82b4b66b",
            "56f193d9c46d4595993a3a7073a089e1",
            "926ce3ba1874430c9f63e0406e28bf9e",
            "edaec7c8da12433aab08b99acfa08814",
            "06fb61d563a64c52b84261933f45d0a7",
            "9428622b7b5a467788ff02b2e856a119",
            "634991208bde4a8a95706ca1059be449",
            "e431ebcbd0424c0184f33a78d95b11cc",
            "d840e36cd0b94ec39c052074ae2796c0",
            "ca5c632a8edf4508b4cd0924925b26c5",
            "bd1d93082eb74e90b30726c99fd1ba72",
            "036daad9c38e441faf230cc376e84064",
            "e71ae8916f944289901762cb796f693e",
            "375fe5edaa174daaa8741ebe7ceabc31",
            "f3069352800b4d42ad7ec7e0b11cb728",
            "59ae830590a844c5a49a3c35dc8ca547",
            "62c6bb58b7604d17a8fd71676cc24e7b",
            "85c2c4b1524c4499a5e7aca5e3d9e80e",
            "09d90995abb745a2906ed2d49cd51493",
            "6c7f49ae14064945909a45543e3fe78b",
            "a7d5fd7bfe2042ddb9cc9b75cc6e9dfe",
            "e9649015398c4cd7910f3f0c1f5ca55a",
            "15ca17de914d4bf3836ea2ccfb3c6d2b",
            "b102ebf0e54741829b6340736231944e",
            "5b194002e39c49628eed1bf3e863f23d",
            "1f4f69e549964680884b4d606c4f3a47",
            "fe55a7527480437f97c7eb6f9edc79d1",
            "0fb2bbaa79654a20a3680f97aeb361ee",
            "220569d89d8e4f33bf9ac4b3b1adf0f7",
            "fb6d5f97e2834f23b8ab3d1a1940739c",
            "03964c30aab34624b9a17be391154d4f",
            "4292ebd10eff4952ad4c4cfc90e2b2e8",
            "a0370a5e59404bc7b4ef1681170de285",
            "83f3269a8e184cb491630e11d53f53f8",
            "64917085988b40b4883cec63d435a6f4",
            "15ec58b8fe1642ddbfd21a37cd64b1ab",
            "e2f3061468b44864952d0ad1b6db98b3",
            "85e6f7b574cf420281c0a6fdfe07f582",
            "a84fcee2ae954210a92106b494f3a55e",
            "f352f61d0b53493d98e6315aa236fa12",
            "be3a12c4dd024155bec68386fa9c2032",
            "69975f6020a347e1ae9e784e55c2ece6",
            "078e48240aed4028ad97bb1c2ca66b96",
            "77d87e652fb14c518ae00769fbc8af82",
            "75f8fe136fbb4429b243efbfa1449452",
            "29c7bd06f60445159359adb209d63b36",
            "9d4c672dafdf4b20b0f70434d1960e25",
            "d6c8d48576bd433ab39400066263e802",
            "e2c563968ff448588e0282c45a26e2c9",
            "f46eaa600da34a27ba07bff56ec6618e",
            "f938b257d331454fb1777c46de22539b",
            "e8c9c5ac0f794b5b9b272600bc45a6f7",
            "baf1947320a04f979396f867edbb2d3d",
            "788d427c1a9a4cd9b06c801c9023e488",
            "a0001ff8feb840f39c3ad6dc13123ebd",
            "14933366b6394ed38498511efc152f0c",
            "56660af73d1842d5ab212ee1ed9a2b1b",
            "54a95f01395544da8aa3f4581222b324",
            "5ef15633cc7841e18f79bfdac2445395",
            "8ed8ca7e18624106b1a0ac6d12bbe852",
            "d037a459594c4c6a8b45996843629d1a",
            "a167c1c295bd48c4a752300bd1e0aea8",
            "4bccb4c648d4423d8fda199a3b565ada",
            "cdc403f1832f42589fb831647fc9b928",
            "c719c51f7e5a4aceb7e56031d0ab313f",
            "a76a202fbec440fdba3e390a89c25ec0",
            "309a5dc0431140c98639ec946ceb090c",
            "56998c24eadc42e4b738f28cf6b3f83a",
            "df61f12d117a4cf89d77a4b3e74a3f77",
            "783d8cff11524551b0734da1f898129b",
            "452f07d6f6754b52bcc21cff4a107631",
            "6a1fdc5f8032471fa32ed6f29be70dd7",
            "7e939050c31d4afc93b8931116689373",
            "786bcea9636041878ebf3fc80600ed8c",
            "47d774150a6f4dfc9861f149fbda318c",
            "ba5e142f4dc043fca9409ac384a5e9be",
            "42b2aafc580b44f3b1cb12f62867a0d2",
            "446eb2e81246415cae283fea1ca8a50c",
            "4e475cd38fa84fed94db38bb4cad1cb4",
            "852e51e56ea94cc982c4c6d0ab95492e",
            "f022fc82f4544f8a99e58fafc5b75f41",
            "9a0898eb7c81468b9dadc3c99bdc559e",
            "0c5d1309e4524599a4c67be686463974",
            "60f5ea798851412abd4a0bd3d4812800",
            "600e726e60e0494a8409cf2e4dc9eb6c",
            "8b9e73ef141845c1beaf89f33b8a8d1b",
            "3c5b42c6e8ac4b5199b4225889291a64",
            "e45338884d644b28ad7258419f5108fb",
            "d776f0dbcb5e4dcabf96fa1cf280ca72",
            "25c9c145379a40d785ad475adde65cb6",
            "f4c8fe9d13a247d08841c69ab566f20c",
            "096f342725d243f8bfe3e5dfd57675cb",
            "869caf344e1a43f7b17c0f9e7083a474",
            "f5773909a2fc4fcebb94d2d75d838f53",
            "44efcef611c4498787f3054b37a7f36b",
            "91d8962ff9b64cd18b9dc2248ee384e3",
            "8093516868c74b4095209eee6d88e4d1",
            "96d397c8ee8f491885aca6979b1dda2f",
            "d9c9f640f7e247fc81a1380e4eb8f9da"
          ]
        },
        "id": "BXCekciOUcla",
        "outputId": "eecc87cc-976b-4e12-f563-f873df61a0e0"
      },
      "execution_count": null,
      "outputs": [
        {
          "output_type": "stream",
          "name": "stderr",
          "text": [
            "The cache for model files in Transformers v4.22.0 has been updated. Migrating your old cache. This is a one-time only operation. You can interrupt this and resume the migration later on by calling `transformers.utils.move_cache()`.\n"
          ]
        },
        {
          "output_type": "display_data",
          "data": {
            "text/plain": [
              "0it [00:00, ?it/s]"
            ],
            "application/vnd.jupyter.widget-view+json": {
              "version_major": 2,
              "version_minor": 0,
              "model_id": "8f51ee37b72945579065fda5d9cc8edb"
            }
          },
          "metadata": {}
        },
        {
          "output_type": "stream",
          "name": "stderr",
          "text": [
            "Cannot initialize model with low cpu memory usage because `accelerate` was not found in the environment. Defaulting to `low_cpu_mem_usage=False`. It is strongly recommended to install `accelerate` for faster and less memory-intense model loading. You can do so with: \n",
            "```\n",
            "pip install accelerate\n",
            "```\n",
            ".\n",
            "/usr/local/lib/python3.10/dist-packages/huggingface_hub/utils/_token.py:88: UserWarning: \n",
            "The secret `HF_TOKEN` does not exist in your Colab secrets.\n",
            "To authenticate with the Hugging Face Hub, create a token in your settings tab (https://huggingface.co/settings/tokens), set it as secret in your Google Colab and restart your session.\n",
            "You will be able to reuse this secret in all of your notebooks.\n",
            "Please note that authentication is recommended but still optional to access public models or datasets.\n",
            "  warnings.warn(\n"
          ]
        },
        {
          "output_type": "display_data",
          "data": {
            "text/plain": [
              "model_index.json:   0%|          | 0.00/541 [00:00<?, ?B/s]"
            ],
            "application/vnd.jupyter.widget-view+json": {
              "version_major": 2,
              "version_minor": 0,
              "model_id": "1c100f027a8040b493c4e5d55850490d"
            }
          },
          "metadata": {}
        },
        {
          "output_type": "display_data",
          "data": {
            "text/plain": [
              "Fetching 15 files:   0%|          | 0/15 [00:00<?, ?it/s]"
            ],
            "application/vnd.jupyter.widget-view+json": {
              "version_major": 2,
              "version_minor": 0,
              "model_id": "5a338a50c70742e2a2de9a1e254a027c"
            }
          },
          "metadata": {}
        },
        {
          "output_type": "display_data",
          "data": {
            "text/plain": [
              "safety_checker/config.json:   0%|          | 0.00/4.72k [00:00<?, ?B/s]"
            ],
            "application/vnd.jupyter.widget-view+json": {
              "version_major": 2,
              "version_minor": 0,
              "model_id": "6cdcb9965d244012bee57bf378b2eade"
            }
          },
          "metadata": {}
        },
        {
          "output_type": "display_data",
          "data": {
            "text/plain": [
              "model.safetensors:   0%|          | 0.00/492M [00:00<?, ?B/s]"
            ],
            "application/vnd.jupyter.widget-view+json": {
              "version_major": 2,
              "version_minor": 0,
              "model_id": "eb75768504b44ad182d50a73c89c9ed2"
            }
          },
          "metadata": {}
        },
        {
          "output_type": "display_data",
          "data": {
            "text/plain": [
              "text_encoder/config.json:   0%|          | 0.00/617 [00:00<?, ?B/s]"
            ],
            "application/vnd.jupyter.widget-view+json": {
              "version_major": 2,
              "version_minor": 0,
              "model_id": "8564113504024b1fbb1b13a2803d528f"
            }
          },
          "metadata": {}
        },
        {
          "output_type": "display_data",
          "data": {
            "text/plain": [
              "model.safetensors:   0%|          | 0.00/1.22G [00:00<?, ?B/s]"
            ],
            "application/vnd.jupyter.widget-view+json": {
              "version_major": 2,
              "version_minor": 0,
              "model_id": "6e141c11e71d46b8a0859e5a4ccf7761"
            }
          },
          "metadata": {}
        },
        {
          "output_type": "display_data",
          "data": {
            "text/plain": [
              "tokenizer/merges.txt:   0%|          | 0.00/525k [00:00<?, ?B/s]"
            ],
            "application/vnd.jupyter.widget-view+json": {
              "version_major": 2,
              "version_minor": 0,
              "model_id": "5b7f9d93e08744ea853025720345c028"
            }
          },
          "metadata": {}
        },
        {
          "output_type": "display_data",
          "data": {
            "text/plain": [
              "tokenizer/tokenizer_config.json:   0%|          | 0.00/806 [00:00<?, ?B/s]"
            ],
            "application/vnd.jupyter.widget-view+json": {
              "version_major": 2,
              "version_minor": 0,
              "model_id": "c03d62a956c84260bf535c6f0e4e65f9"
            }
          },
          "metadata": {}
        },
        {
          "output_type": "display_data",
          "data": {
            "text/plain": [
              "tokenizer/special_tokens_map.json:   0%|          | 0.00/472 [00:00<?, ?B/s]"
            ],
            "application/vnd.jupyter.widget-view+json": {
              "version_major": 2,
              "version_minor": 0,
              "model_id": "c5c16f012dff4283ab78426b82b4b66b"
            }
          },
          "metadata": {}
        },
        {
          "output_type": "display_data",
          "data": {
            "text/plain": [
              "(…)ature_extractor/preprocessor_config.json:   0%|          | 0.00/342 [00:00<?, ?B/s]"
            ],
            "application/vnd.jupyter.widget-view+json": {
              "version_major": 2,
              "version_minor": 0,
              "model_id": "036daad9c38e441faf230cc376e84064"
            }
          },
          "metadata": {}
        },
        {
          "output_type": "display_data",
          "data": {
            "text/plain": [
              "scheduler/scheduler_config.json:   0%|          | 0.00/308 [00:00<?, ?B/s]"
            ],
            "application/vnd.jupyter.widget-view+json": {
              "version_major": 2,
              "version_minor": 0,
              "model_id": "15ca17de914d4bf3836ea2ccfb3c6d2b"
            }
          },
          "metadata": {}
        },
        {
          "output_type": "display_data",
          "data": {
            "text/plain": [
              "tokenizer/vocab.json:   0%|          | 0.00/1.06M [00:00<?, ?B/s]"
            ],
            "application/vnd.jupyter.widget-view+json": {
              "version_major": 2,
              "version_minor": 0,
              "model_id": "83f3269a8e184cb491630e11d53f53f8"
            }
          },
          "metadata": {}
        },
        {
          "output_type": "display_data",
          "data": {
            "text/plain": [
              "unet/config.json:   0%|          | 0.00/743 [00:00<?, ?B/s]"
            ],
            "application/vnd.jupyter.widget-view+json": {
              "version_major": 2,
              "version_minor": 0,
              "model_id": "75f8fe136fbb4429b243efbfa1449452"
            }
          },
          "metadata": {}
        },
        {
          "output_type": "display_data",
          "data": {
            "text/plain": [
              "vae/config.json:   0%|          | 0.00/547 [00:00<?, ?B/s]"
            ],
            "application/vnd.jupyter.widget-view+json": {
              "version_major": 2,
              "version_minor": 0,
              "model_id": "14933366b6394ed38498511efc152f0c"
            }
          },
          "metadata": {}
        },
        {
          "output_type": "display_data",
          "data": {
            "text/plain": [
              "diffusion_pytorch_model.safetensors:   0%|          | 0.00/3.44G [00:00<?, ?B/s]"
            ],
            "application/vnd.jupyter.widget-view+json": {
              "version_major": 2,
              "version_minor": 0,
              "model_id": "309a5dc0431140c98639ec946ceb090c"
            }
          },
          "metadata": {}
        },
        {
          "output_type": "display_data",
          "data": {
            "text/plain": [
              "diffusion_pytorch_model.safetensors:   0%|          | 0.00/335M [00:00<?, ?B/s]"
            ],
            "application/vnd.jupyter.widget-view+json": {
              "version_major": 2,
              "version_minor": 0,
              "model_id": "446eb2e81246415cae283fea1ca8a50c"
            }
          },
          "metadata": {}
        },
        {
          "output_type": "display_data",
          "data": {
            "text/plain": [
              "Loading pipeline components...:   0%|          | 0/7 [00:00<?, ?it/s]"
            ],
            "application/vnd.jupyter.widget-view+json": {
              "version_major": 2,
              "version_minor": 0,
              "model_id": "d776f0dbcb5e4dcabf96fa1cf280ca72"
            }
          },
          "metadata": {}
        }
      ]
    },
    {
      "cell_type": "code",
      "source": [
        "def get_completion_sd(prompt):\n",
        "  negative_prompt = \"\"\"\n",
        "  simple background, duplicate, low quality, lowest quality,\n",
        "  bad anatomy, bad proportions, extra digits, lowres, username,\n",
        "  artist name, error, duplicate, watermark, signature, text,\n",
        "  extra digit, fewer digits, worst quality, jpeg artifacts, blurry\n",
        "  \"\"\"\n",
        "  return sd_pipeline(prompt, negative_prompt=negative_prompt).images[0]"
      ],
      "metadata": {
        "id": "0TqoK8FSUixF"
      },
      "execution_count": null,
      "outputs": []
    },
    {
      "cell_type": "code",
      "source": [
        "# prompt = \"Studient, playing in the ground, with a bat and hitting the ball,fielders aroung the ground \"\n",
        "# prompt = \"A ducati strret fighter, in chennai Marina Beach, 1 tiers in water, the front wheel is rised up\"\n",
        "prompt = \"\"\"A baby, wearing a army suit, holding pistol, pointing to the target, fired two rounds of the gun\n",
        " \"\"\"\n",
        "print(prompt)\n",
        "sd_image = get_completion_sd(prompt)\n",
        "sd_image.save(\"./child.jpg\")"
      ],
      "metadata": {
        "colab": {
          "base_uri": "https://localhost:8080/",
          "height": 104,
          "referenced_widgets": [
            "ba48d67a20c5442fb6ae22e9a1c28bb1",
            "5c9fa0930e0f42d5984a9909202dcfe6",
            "081536c267594f80939124044b569b7f",
            "91af55b98d8443d581e5092b7dcf220f",
            "3599856add864975a382fba04ab669b3",
            "5b974e9fec8a433795bef7e2645cc96e",
            "cacc11d9eb1f48149956aaf0d644fbd9",
            "209bf09279fe40a1b185972551e7bd17",
            "b4eb904de3c541ebb43ef6ac28e66c5f",
            "268e1fc5eeeb412cbd5db688414045be",
            "479b07cd872649c792d0cf00fa5986ba"
          ]
        },
        "id": "cLAe6RuQV2Jd",
        "outputId": "531f224f-a8c4-4f70-d4a5-7cb81e4b1198"
      },
      "execution_count": null,
      "outputs": [
        {
          "output_type": "stream",
          "name": "stdout",
          "text": [
            "A baby, wearing a army suit, holding pistol, pointing to the target, fired two rounds of the gun\n",
            " \n"
          ]
        },
        {
          "output_type": "display_data",
          "data": {
            "text/plain": [
              "  0%|          | 0/50 [00:00<?, ?it/s]"
            ],
            "application/vnd.jupyter.widget-view+json": {
              "version_major": 2,
              "version_minor": 0,
              "model_id": "ba48d67a20c5442fb6ae22e9a1c28bb1"
            }
          },
          "metadata": {}
        }
      ]
    },
    {
      "cell_type": "code",
      "source": [
        "!pip install gradio==3.48.0"
      ],
      "metadata": {
        "colab": {
          "base_uri": "https://localhost:8080/"
        },
        "id": "cHTfhiRIXl4D",
        "outputId": "581be2c3-77b5-47d6-fb47-4cbb27816677"
      },
      "execution_count": null,
      "outputs": [
        {
          "output_type": "stream",
          "name": "stdout",
          "text": [
            "Collecting gradio==3.48.0\n",
            "  Downloading gradio-3.48.0-py3-none-any.whl (20.3 MB)\n",
            "\u001b[2K     \u001b[90m━━━━━━━━━━━━━━━━━━━━━━━━━━━━━━━━━━━━━━━━\u001b[0m \u001b[32m20.3/20.3 MB\u001b[0m \u001b[31m38.9 MB/s\u001b[0m eta \u001b[36m0:00:00\u001b[0m\n",
            "\u001b[?25hCollecting aiofiles<24.0,>=22.0 (from gradio==3.48.0)\n",
            "  Downloading aiofiles-23.2.1-py3-none-any.whl (15 kB)\n",
            "Requirement already satisfied: altair<6.0,>=4.2.0 in /usr/local/lib/python3.10/dist-packages (from gradio==3.48.0) (4.2.2)\n",
            "Collecting fastapi (from gradio==3.48.0)\n",
            "  Downloading fastapi-0.110.2-py3-none-any.whl (91 kB)\n",
            "\u001b[2K     \u001b[90m━━━━━━━━━━━━━━━━━━━━━━━━━━━━━━━━━━━━━━━━\u001b[0m \u001b[32m91.9/91.9 kB\u001b[0m \u001b[31m13.1 MB/s\u001b[0m eta \u001b[36m0:00:00\u001b[0m\n",
            "\u001b[?25hCollecting ffmpy (from gradio==3.48.0)\n",
            "  Downloading ffmpy-0.3.2.tar.gz (5.5 kB)\n",
            "  Preparing metadata (setup.py) ... \u001b[?25l\u001b[?25hdone\n",
            "Collecting gradio-client==0.6.1 (from gradio==3.48.0)\n",
            "  Downloading gradio_client-0.6.1-py3-none-any.whl (299 kB)\n",
            "\u001b[2K     \u001b[90m━━━━━━━━━━━━━━━━━━━━━━━━━━━━━━━━━━━━━━━━\u001b[0m \u001b[32m299.2/299.2 kB\u001b[0m \u001b[31m36.0 MB/s\u001b[0m eta \u001b[36m0:00:00\u001b[0m\n",
            "\u001b[?25hCollecting httpx (from gradio==3.48.0)\n",
            "  Downloading httpx-0.27.0-py3-none-any.whl (75 kB)\n",
            "\u001b[2K     \u001b[90m━━━━━━━━━━━━━━━━━━━━━━━━━━━━━━━━━━━━━━━━\u001b[0m \u001b[32m75.6/75.6 kB\u001b[0m \u001b[31m10.8 MB/s\u001b[0m eta \u001b[36m0:00:00\u001b[0m\n",
            "\u001b[?25hRequirement already satisfied: huggingface-hub>=0.14.0 in /usr/local/lib/python3.10/dist-packages (from gradio==3.48.0) (0.20.3)\n",
            "Requirement already satisfied: importlib-resources<7.0,>=1.3 in /usr/local/lib/python3.10/dist-packages (from gradio==3.48.0) (6.4.0)\n",
            "Requirement already satisfied: jinja2<4.0 in /usr/local/lib/python3.10/dist-packages (from gradio==3.48.0) (3.1.3)\n",
            "Requirement already satisfied: markupsafe~=2.0 in /usr/local/lib/python3.10/dist-packages (from gradio==3.48.0) (2.1.5)\n",
            "Requirement already satisfied: matplotlib~=3.0 in /usr/local/lib/python3.10/dist-packages (from gradio==3.48.0) (3.7.1)\n",
            "Requirement already satisfied: numpy~=1.0 in /usr/local/lib/python3.10/dist-packages (from gradio==3.48.0) (1.25.2)\n",
            "Collecting orjson~=3.0 (from gradio==3.48.0)\n",
            "  Downloading orjson-3.10.1-cp310-cp310-manylinux_2_17_x86_64.manylinux2014_x86_64.whl (141 kB)\n",
            "\u001b[2K     \u001b[90m━━━━━━━━━━━━━━━━━━━━━━━━━━━━━━━━━━━━━━━━\u001b[0m \u001b[32m141.1/141.1 kB\u001b[0m \u001b[31m19.9 MB/s\u001b[0m eta \u001b[36m0:00:00\u001b[0m\n",
            "\u001b[?25hRequirement already satisfied: packaging in /usr/local/lib/python3.10/dist-packages (from gradio==3.48.0) (24.0)\n",
            "Requirement already satisfied: pandas<3.0,>=1.0 in /usr/local/lib/python3.10/dist-packages (from gradio==3.48.0) (2.0.3)\n",
            "Requirement already satisfied: pillow<11.0,>=8.0 in /usr/local/lib/python3.10/dist-packages (from gradio==3.48.0) (9.4.0)\n",
            "Requirement already satisfied: pydantic!=1.8,!=1.8.1,!=2.0.0,!=2.0.1,<3.0.0,>=1.7.4 in /usr/local/lib/python3.10/dist-packages (from gradio==3.48.0) (2.7.0)\n",
            "Collecting pydub (from gradio==3.48.0)\n",
            "  Downloading pydub-0.25.1-py2.py3-none-any.whl (32 kB)\n",
            "Collecting python-multipart (from gradio==3.48.0)\n",
            "  Downloading python_multipart-0.0.9-py3-none-any.whl (22 kB)\n",
            "Requirement already satisfied: pyyaml<7.0,>=5.0 in /usr/local/lib/python3.10/dist-packages (from gradio==3.48.0) (6.0.1)\n",
            "Requirement already satisfied: requests~=2.0 in /usr/local/lib/python3.10/dist-packages (from gradio==3.48.0) (2.31.0)\n",
            "Collecting semantic-version~=2.0 (from gradio==3.48.0)\n",
            "  Downloading semantic_version-2.10.0-py2.py3-none-any.whl (15 kB)\n",
            "Requirement already satisfied: typing-extensions~=4.0 in /usr/local/lib/python3.10/dist-packages (from gradio==3.48.0) (4.11.0)\n",
            "Collecting uvicorn>=0.14.0 (from gradio==3.48.0)\n",
            "  Downloading uvicorn-0.29.0-py3-none-any.whl (60 kB)\n",
            "\u001b[2K     \u001b[90m━━━━━━━━━━━━━━━━━━━━━━━━━━━━━━━━━━━━━━━━\u001b[0m \u001b[32m60.8/60.8 kB\u001b[0m \u001b[31m8.8 MB/s\u001b[0m eta \u001b[36m0:00:00\u001b[0m\n",
            "\u001b[?25hCollecting websockets<12.0,>=10.0 (from gradio==3.48.0)\n",
            "  Downloading websockets-11.0.3-cp310-cp310-manylinux_2_5_x86_64.manylinux1_x86_64.manylinux_2_17_x86_64.manylinux2014_x86_64.whl (129 kB)\n",
            "\u001b[2K     \u001b[90m━━━━━━━━━━━━━━━━━━━━━━━━━━━━━━━━━━━━━━━━\u001b[0m \u001b[32m129.9/129.9 kB\u001b[0m \u001b[31m17.1 MB/s\u001b[0m eta \u001b[36m0:00:00\u001b[0m\n",
            "\u001b[?25hRequirement already satisfied: fsspec in /usr/local/lib/python3.10/dist-packages (from gradio-client==0.6.1->gradio==3.48.0) (2023.6.0)\n",
            "Requirement already satisfied: entrypoints in /usr/local/lib/python3.10/dist-packages (from altair<6.0,>=4.2.0->gradio==3.48.0) (0.4)\n",
            "Requirement already satisfied: jsonschema>=3.0 in /usr/local/lib/python3.10/dist-packages (from altair<6.0,>=4.2.0->gradio==3.48.0) (4.19.2)\n",
            "Requirement already satisfied: toolz in /usr/local/lib/python3.10/dist-packages (from altair<6.0,>=4.2.0->gradio==3.48.0) (0.12.1)\n",
            "Requirement already satisfied: filelock in /usr/local/lib/python3.10/dist-packages (from huggingface-hub>=0.14.0->gradio==3.48.0) (3.13.4)\n",
            "Requirement already satisfied: tqdm>=4.42.1 in /usr/local/lib/python3.10/dist-packages (from huggingface-hub>=0.14.0->gradio==3.48.0) (4.66.2)\n",
            "Requirement already satisfied: contourpy>=1.0.1 in /usr/local/lib/python3.10/dist-packages (from matplotlib~=3.0->gradio==3.48.0) (1.2.1)\n",
            "Requirement already satisfied: cycler>=0.10 in /usr/local/lib/python3.10/dist-packages (from matplotlib~=3.0->gradio==3.48.0) (0.12.1)\n",
            "Requirement already satisfied: fonttools>=4.22.0 in /usr/local/lib/python3.10/dist-packages (from matplotlib~=3.0->gradio==3.48.0) (4.51.0)\n",
            "Requirement already satisfied: kiwisolver>=1.0.1 in /usr/local/lib/python3.10/dist-packages (from matplotlib~=3.0->gradio==3.48.0) (1.4.5)\n",
            "Requirement already satisfied: pyparsing>=2.3.1 in /usr/local/lib/python3.10/dist-packages (from matplotlib~=3.0->gradio==3.48.0) (3.1.2)\n",
            "Requirement already satisfied: python-dateutil>=2.7 in /usr/local/lib/python3.10/dist-packages (from matplotlib~=3.0->gradio==3.48.0) (2.8.2)\n",
            "Requirement already satisfied: pytz>=2020.1 in /usr/local/lib/python3.10/dist-packages (from pandas<3.0,>=1.0->gradio==3.48.0) (2023.4)\n",
            "Requirement already satisfied: tzdata>=2022.1 in /usr/local/lib/python3.10/dist-packages (from pandas<3.0,>=1.0->gradio==3.48.0) (2024.1)\n",
            "Requirement already satisfied: annotated-types>=0.4.0 in /usr/local/lib/python3.10/dist-packages (from pydantic!=1.8,!=1.8.1,!=2.0.0,!=2.0.1,<3.0.0,>=1.7.4->gradio==3.48.0) (0.6.0)\n",
            "Requirement already satisfied: pydantic-core==2.18.1 in /usr/local/lib/python3.10/dist-packages (from pydantic!=1.8,!=1.8.1,!=2.0.0,!=2.0.1,<3.0.0,>=1.7.4->gradio==3.48.0) (2.18.1)\n",
            "Requirement already satisfied: charset-normalizer<4,>=2 in /usr/local/lib/python3.10/dist-packages (from requests~=2.0->gradio==3.48.0) (3.3.2)\n",
            "Requirement already satisfied: idna<4,>=2.5 in /usr/local/lib/python3.10/dist-packages (from requests~=2.0->gradio==3.48.0) (3.7)\n",
            "Requirement already satisfied: urllib3<3,>=1.21.1 in /usr/local/lib/python3.10/dist-packages (from requests~=2.0->gradio==3.48.0) (2.0.7)\n",
            "Requirement already satisfied: certifi>=2017.4.17 in /usr/local/lib/python3.10/dist-packages (from requests~=2.0->gradio==3.48.0) (2024.2.2)\n",
            "Requirement already satisfied: click>=7.0 in /usr/local/lib/python3.10/dist-packages (from uvicorn>=0.14.0->gradio==3.48.0) (8.1.7)\n",
            "Collecting h11>=0.8 (from uvicorn>=0.14.0->gradio==3.48.0)\n",
            "  Downloading h11-0.14.0-py3-none-any.whl (58 kB)\n",
            "\u001b[2K     \u001b[90m━━━━━━━━━━━━━━━━━━━━━━━━━━━━━━━━━━━━━━━━\u001b[0m \u001b[32m58.3/58.3 kB\u001b[0m \u001b[31m7.7 MB/s\u001b[0m eta \u001b[36m0:00:00\u001b[0m\n",
            "\u001b[?25hCollecting starlette<0.38.0,>=0.37.2 (from fastapi->gradio==3.48.0)\n",
            "  Downloading starlette-0.37.2-py3-none-any.whl (71 kB)\n",
            "\u001b[2K     \u001b[90m━━━━━━━━━━━━━━━━━━━━━━━━━━━━━━━━━━━━━━━━\u001b[0m \u001b[32m71.9/71.9 kB\u001b[0m \u001b[31m9.5 MB/s\u001b[0m eta \u001b[36m0:00:00\u001b[0m\n",
            "\u001b[?25hRequirement already satisfied: anyio in /usr/local/lib/python3.10/dist-packages (from httpx->gradio==3.48.0) (3.7.1)\n",
            "Collecting httpcore==1.* (from httpx->gradio==3.48.0)\n",
            "  Downloading httpcore-1.0.5-py3-none-any.whl (77 kB)\n",
            "\u001b[2K     \u001b[90m━━━━━━━━━━━━━━━━━━━━━━━━━━━━━━━━━━━━━━━━\u001b[0m \u001b[32m77.9/77.9 kB\u001b[0m \u001b[31m10.7 MB/s\u001b[0m eta \u001b[36m0:00:00\u001b[0m\n",
            "\u001b[?25hRequirement already satisfied: sniffio in /usr/local/lib/python3.10/dist-packages (from httpx->gradio==3.48.0) (1.3.1)\n",
            "Requirement already satisfied: attrs>=22.2.0 in /usr/local/lib/python3.10/dist-packages (from jsonschema>=3.0->altair<6.0,>=4.2.0->gradio==3.48.0) (23.2.0)\n",
            "Requirement already satisfied: jsonschema-specifications>=2023.03.6 in /usr/local/lib/python3.10/dist-packages (from jsonschema>=3.0->altair<6.0,>=4.2.0->gradio==3.48.0) (2023.12.1)\n",
            "Requirement already satisfied: referencing>=0.28.4 in /usr/local/lib/python3.10/dist-packages (from jsonschema>=3.0->altair<6.0,>=4.2.0->gradio==3.48.0) (0.34.0)\n",
            "Requirement already satisfied: rpds-py>=0.7.1 in /usr/local/lib/python3.10/dist-packages (from jsonschema>=3.0->altair<6.0,>=4.2.0->gradio==3.48.0) (0.18.0)\n",
            "Requirement already satisfied: six>=1.5 in /usr/local/lib/python3.10/dist-packages (from python-dateutil>=2.7->matplotlib~=3.0->gradio==3.48.0) (1.16.0)\n",
            "Requirement already satisfied: exceptiongroup in /usr/local/lib/python3.10/dist-packages (from anyio->httpx->gradio==3.48.0) (1.2.1)\n",
            "Building wheels for collected packages: ffmpy\n",
            "  Building wheel for ffmpy (setup.py) ... \u001b[?25l\u001b[?25hdone\n",
            "  Created wheel for ffmpy: filename=ffmpy-0.3.2-py3-none-any.whl size=5584 sha256=130527d14f71a7287de37f5d64e9b39e70e7a7cb4cbd4d70fc7a26e5171f360c\n",
            "  Stored in directory: /root/.cache/pip/wheels/bd/65/9a/671fc6dcde07d4418df0c592f8df512b26d7a0029c2a23dd81\n",
            "Successfully built ffmpy\n",
            "Installing collected packages: pydub, ffmpy, websockets, semantic-version, python-multipart, orjson, h11, aiofiles, uvicorn, starlette, httpcore, httpx, fastapi, gradio-client, gradio\n",
            "Successfully installed aiofiles-23.2.1 fastapi-0.110.2 ffmpy-0.3.2 gradio-3.48.0 gradio-client-0.6.1 h11-0.14.0 httpcore-1.0.5 httpx-0.27.0 orjson-3.10.1 pydub-0.25.1 python-multipart-0.0.9 semantic-version-2.10.0 starlette-0.37.2 uvicorn-0.29.0 websockets-11.0.3\n"
          ]
        }
      ]
    },
    {
      "cell_type": "code",
      "source": [
        "import gradio as gr"
      ],
      "metadata": {
        "id": "fMLdvYTiXw0g"
      },
      "execution_count": null,
      "outputs": []
    },
    {
      "cell_type": "code",
      "source": [
        "def get_completion(prompt):\n",
        "  negative_prompt = \"\"\"\n",
        "  simple background, duplicate, low quality, lowest quality,\n",
        "  bad anatomy, bad proportions, extra digits, lowres, username,\n",
        "  artist name, error, duplicate, watermark, signature, text,\n",
        "  extra digit, fewer digits, worst quality, jpeg artifacts, blurry\n",
        "  \"\"\"\n",
        "  return sd_pipeline(prompt, negative_prompt=negative_prompt).images[0]\n",
        "\n",
        "genai_app = gr.Interface(fn=get_completion,\n",
        "                         inputs=[gr.Textbox(label=\"Your prompt\")],\n",
        "                         outputs=[gr.Image(label=\"Result\")],\n",
        "                         title=\"Generate Cool Images\",\n",
        "                         description=\"Generate any image with Stable Diffusion\",\n",
        "                         allow_flagging=\"never\",\n",
        "                         examples=[\"astronaut, riding a horse, on mars\",\n",
        "                                   \"cargo ship, flying, in space\"])\n",
        "genai_app.launch()"
      ],
      "metadata": {
        "colab": {
          "base_uri": "https://localhost:8080/",
          "height": 645
        },
        "id": "Pi6bmu2-XylW",
        "outputId": "0f875a95-1d30-4ebd-86ab-402c07ab1c8b"
      },
      "execution_count": null,
      "outputs": [
        {
          "output_type": "stream",
          "name": "stdout",
          "text": [
            "Setting queue=True in a Colab notebook requires sharing enabled. Setting `share=True` (you can turn this off by setting `share=False` in `launch()` explicitly).\n",
            "\n",
            "Colab notebook detected. To show errors in colab notebook, set debug=True in launch()\n",
            "Running on public URL: https://a4a60e47e5efdabc00.gradio.live\n",
            "\n",
            "This share link expires in 72 hours. For free permanent hosting and GPU upgrades, run `gradio deploy` from Terminal to deploy to Spaces (https://huggingface.co/spaces)\n"
          ]
        },
        {
          "output_type": "display_data",
          "data": {
            "text/plain": [
              "<IPython.core.display.HTML object>"
            ],
            "text/html": [
              "<div><iframe src=\"https://a4a60e47e5efdabc00.gradio.live\" width=\"100%\" height=\"500\" allow=\"autoplay; camera; microphone; clipboard-read; clipboard-write;\" frameborder=\"0\" allowfullscreen></iframe></div>"
            ]
          },
          "metadata": {}
        },
        {
          "output_type": "execute_result",
          "data": {
            "text/plain": []
          },
          "metadata": {},
          "execution_count": 7
        }
      ]
    },
    {
      "cell_type": "code",
      "source": [],
      "metadata": {
        "id": "xn_5OtCyX2JH"
      },
      "execution_count": null,
      "outputs": []
    }
  ]
}